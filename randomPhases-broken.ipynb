{
 "cells": [
  {
   "cell_type": "code",
   "execution_count": 1,
   "metadata": {},
   "outputs": [],
   "source": [
    "%matplotlib widget"
   ]
  },
  {
   "cell_type": "code",
   "execution_count": 2,
   "metadata": {},
   "outputs": [],
   "source": [
    "import pandas as pd\n",
    "import numpy as np\n",
    "import matplotlib.pyplot as plt"
   ]
  },
  {
   "cell_type": "code",
   "execution_count": 82,
   "metadata": {},
   "outputs": [],
   "source": [
    "df = pd.DataFrame()\n",
    "df['e'] = np.random.random_sample(1000)\n",
    "#df['e'] = np.ones(1000)\n",
    "df['e^2'] = df['e']**2\n",
    "#df['a'] = np.ones(1000)\n",
    "df['a'] = 2*np.pi*np.random.random_sample(1000)\n",
    "df['re'] = df['e']*np.cos(df['a'])\n",
    "df['im'] = df['e']*np.sin(df['a'])\n",
    "df['answer'] = (df['re'].cumsum())**2 + (df['im'].cumsum())**2\n",
    "df['sum'] = [df['e'][i]*(df['e'][i+1:]*np.cos(df['a'][i]-df['a'][i+1:])).sum() for i in df.index if i<len(df.index)]"
   ]
  },
  {
   "cell_type": "code",
   "execution_count": 83,
   "metadata": {},
   "outputs": [],
   "source": [
    "df['e^2sum'] = df['e^2'].cumsum()\n",
    "df['diff'] = df['answer']-df['e^2sum']"
   ]
  },
  {
   "cell_type": "code",
   "execution_count": 84,
   "metadata": {},
   "outputs": [
    {
     "data": {
      "text/plain": [
       "430.4553845701949"
      ]
     },
     "execution_count": 84,
     "metadata": {},
     "output_type": "execute_result"
    }
   ],
   "source": [
    "(df['re'].sum())**2 + (df['im'].sum())**2"
   ]
  },
  {
   "cell_type": "code",
   "execution_count": 85,
   "metadata": {},
   "outputs": [
    {
     "data": {
      "text/plain": [
       "47.612754658480206"
      ]
     },
     "execution_count": 85,
     "metadata": {},
     "output_type": "execute_result"
    }
   ],
   "source": [
    "df['sum'].sum()"
   ]
  },
  {
   "cell_type": "code",
   "execution_count": 86,
   "metadata": {},
   "outputs": [
    {
     "name": "stdout",
     "output_type": "stream",
     "text": [
      "answer: [430.45538457] my answer: 430.45538457019455\n"
     ]
    }
   ],
   "source": [
    "print('answer:',df['answer'].values[-1:], 'my answer:', df['e^2'].sum() + 2*df['sum'].sum())"
   ]
  },
  {
   "cell_type": "code",
   "execution_count": 87,
   "metadata": {},
   "outputs": [
    {
     "data": {
      "text/plain": [
       "995    121.445958\n",
       "996     96.345384\n",
       "997     93.134523\n",
       "998     77.765891\n",
       "999     95.225509\n",
       "Name: diff, dtype: float64"
      ]
     },
     "execution_count": 87,
     "metadata": {},
     "output_type": "execute_result"
    }
   ],
   "source": [
    "df['diff'].tail()"
   ]
  },
  {
   "cell_type": "code",
   "execution_count": 88,
   "metadata": {},
   "outputs": [
    {
     "data": {
      "text/plain": [
       "995    94.869197\n",
       "996    95.773309\n",
       "997    95.610095\n",
       "998    95.225509\n",
       "999    95.225509\n",
       "Name: sum, dtype: float64"
      ]
     },
     "execution_count": 88,
     "metadata": {},
     "output_type": "execute_result"
    }
   ],
   "source": [
    "2*df['sum'].cumsum().tail()"
   ]
  },
  {
   "cell_type": "code",
   "execution_count": 89,
   "metadata": {},
   "outputs": [
    {
     "data": {
      "application/vnd.jupyter.widget-view+json": {
       "model_id": "4713c0f5593c4399a20631a0b313f13a",
       "version_major": 2,
       "version_minor": 0
      },
      "text/plain": [
       "Canvas(toolbar=Toolbar(toolitems=[('Home', 'Reset original view', 'home', 'home'), ('Back', 'Back to previous …"
      ]
     },
     "metadata": {},
     "output_type": "display_data"
    },
    {
     "data": {
      "text/plain": [
       "<matplotlib.legend.Legend at 0x7f02ee31e510>"
      ]
     },
     "execution_count": 89,
     "metadata": {},
     "output_type": "execute_result"
    }
   ],
   "source": [
    "fig2, ax2 = plt.subplots()\n",
    "ax2.semilogx(df.index, df['e^2sum'], label='sqsum')\n",
    "ax2.semilogx(df.index, df['diff'], label='diff')\n",
    "ax2.semilogx(df.index, df['answer'], label='ans')\n",
    "ax2.semilogx(df.index,2*df['sum'].cumsum())\n",
    "ax2.legend(['sqsum','diff','ans','sum'])"
   ]
  },
  {
   "cell_type": "code",
   "execution_count": 39,
   "metadata": {},
   "outputs": [
    {
     "data": {
      "text/plain": [
       "-323.9167712448541"
      ]
     },
     "execution_count": 39,
     "metadata": {},
     "output_type": "execute_result"
    }
   ],
   "source": [
    "2*df['sum'].sum()"
   ]
  },
  {
   "cell_type": "code",
   "execution_count": 165,
   "metadata": {},
   "outputs": [
    {
     "data": {
      "text/html": [
       "<div>\n",
       "<style scoped>\n",
       "    .dataframe tbody tr th:only-of-type {\n",
       "        vertical-align: middle;\n",
       "    }\n",
       "\n",
       "    .dataframe tbody tr th {\n",
       "        vertical-align: top;\n",
       "    }\n",
       "\n",
       "    .dataframe thead th {\n",
       "        text-align: right;\n",
       "    }\n",
       "</style>\n",
       "<table border=\"1\" class=\"dataframe\">\n",
       "  <thead>\n",
       "    <tr style=\"text-align: right;\">\n",
       "      <th></th>\n",
       "      <th>e</th>\n",
       "      <th>e^2</th>\n",
       "      <th>a</th>\n",
       "      <th>re</th>\n",
       "      <th>im</th>\n",
       "      <th>sum</th>\n",
       "    </tr>\n",
       "  </thead>\n",
       "  <tbody>\n",
       "    <tr>\n",
       "      <th>0</th>\n",
       "      <td>0.889613</td>\n",
       "      <td>0.791412</td>\n",
       "      <td>0.724062</td>\n",
       "      <td>0.666428</td>\n",
       "      <td>0.589309</td>\n",
       "      <td>41.740122</td>\n",
       "    </tr>\n",
       "    <tr>\n",
       "      <th>1</th>\n",
       "      <td>0.836913</td>\n",
       "      <td>0.700424</td>\n",
       "      <td>0.339468</td>\n",
       "      <td>0.789152</td>\n",
       "      <td>0.278680</td>\n",
       "      <td>58.617917</td>\n",
       "    </tr>\n",
       "    <tr>\n",
       "      <th>2</th>\n",
       "      <td>0.507192</td>\n",
       "      <td>0.257244</td>\n",
       "      <td>5.805609</td>\n",
       "      <td>0.450443</td>\n",
       "      <td>-0.233120</td>\n",
       "      <td>42.566203</td>\n",
       "    </tr>\n",
       "    <tr>\n",
       "      <th>3</th>\n",
       "      <td>0.296498</td>\n",
       "      <td>0.087911</td>\n",
       "      <td>5.162622</td>\n",
       "      <td>0.129029</td>\n",
       "      <td>-0.266951</td>\n",
       "      <td>16.838216</td>\n",
       "    </tr>\n",
       "    <tr>\n",
       "      <th>4</th>\n",
       "      <td>0.090433</td>\n",
       "      <td>0.008178</td>\n",
       "      <td>5.217457</td>\n",
       "      <td>0.043757</td>\n",
       "      <td>-0.079141</td>\n",
       "      <td>5.435889</td>\n",
       "    </tr>\n",
       "  </tbody>\n",
       "</table>\n",
       "</div>"
      ],
      "text/plain": [
       "          e       e^2         a        re        im        sum\n",
       "0  0.889613  0.791412  0.724062  0.666428  0.589309  41.740122\n",
       "1  0.836913  0.700424  0.339468  0.789152  0.278680  58.617917\n",
       "2  0.507192  0.257244  5.805609  0.450443 -0.233120  42.566203\n",
       "3  0.296498  0.087911  5.162622  0.129029 -0.266951  16.838216\n",
       "4  0.090433  0.008178  5.217457  0.043757 -0.079141   5.435889"
      ]
     },
     "execution_count": 165,
     "metadata": {},
     "output_type": "execute_result"
    }
   ],
   "source": [
    "df.head()"
   ]
  },
  {
   "cell_type": "code",
   "execution_count": 204,
   "metadata": {},
   "outputs": [
    {
     "data": {
      "text/plain": [
       "0         1.0\n",
       "1         1.0\n",
       "2         1.0\n",
       "3         1.0\n",
       "4         1.0\n",
       "         ... \n",
       "999995    1.0\n",
       "999996    1.0\n",
       "999997    1.0\n",
       "999998    1.0\n",
       "999999    1.0\n",
       "Name: e^2, Length: 1000000, dtype: float64"
      ]
     },
     "execution_count": 204,
     "metadata": {},
     "output_type": "execute_result"
    }
   ],
   "source": [
    "df['e^2']"
   ]
  },
  {
   "cell_type": "code",
   "execution_count": 103,
   "metadata": {},
   "outputs": [
    {
     "name": "stdout",
     "output_type": "stream",
     "text": [
      "100\n",
      "200\n",
      "300\n",
      "400\n"
     ]
    }
   ],
   "source": [
    "for i,j in enumerate(test):\n",
    "    print(j)"
   ]
  },
  {
   "cell_type": "code",
   "execution_count": 24,
   "metadata": {},
   "outputs": [
    {
     "data": {
      "text/plain": [
       "[2, 3, 4]"
      ]
     },
     "execution_count": 24,
     "metadata": {},
     "output_type": "execute_result"
    }
   ],
   "source": [
    "test"
   ]
  },
  {
   "cell_type": "code",
   "execution_count": 51,
   "metadata": {},
   "outputs": [
    {
     "data": {
      "text/plain": [
       "93    98.323627\n",
       "94    93.012128\n",
       "95     1.872027\n",
       "96    31.555979\n",
       "97    45.533357\n",
       "98    47.724186\n",
       "99    90.405780\n",
       "Name: e, dtype: float64"
      ]
     },
     "execution_count": 51,
     "metadata": {},
     "output_type": "execute_result"
    }
   ],
   "source": [
    "df['e'][90:]"
   ]
  },
  {
   "cell_type": "code",
   "execution_count": 52,
   "metadata": {},
   "outputs": [
    {
     "data": {
      "text/plain": [
       "97"
      ]
     },
     "execution_count": 52,
     "metadata": {},
     "output_type": "execute_result"
    }
   ],
   "source": [
    "len(df['e'].values)"
   ]
  },
  {
   "cell_type": "code",
   "execution_count": null,
   "metadata": {},
   "outputs": [],
   "source": []
  },
  {
   "cell_type": "code",
   "execution_count": 30,
   "metadata": {},
   "outputs": [],
   "source": [
    "def e_crossterm(e_list, a_list, result):\n",
    "    e_i = e_list.pop(0)\n",
    "    a_i = a_list.pop(0)\n",
    "    for j,e in enumerate(e_list):\n",
    "        # print(e_i, a_i, e_list[j], a_list[j])\n",
    "        result = result + e_i*e_list[j]*np.cos(a_i-a_list[j])\n",
    "        # print(result)\n",
    "    return e_list, a_list, result\n",
    "\n",
    "result = 0\n",
    "\n",
    "while len(e_list)>0:\n",
    "    e_list, a_list, result = e_crossterm(e_list, a_list, result)"
   ]
  },
  {
   "cell_type": "code",
   "execution_count": 115,
   "metadata": {},
   "outputs": [
    {
     "data": {
      "application/vnd.jupyter.widget-view+json": {
       "model_id": "d8258f89c40c4dd19f496de456d66fc5",
       "version_major": 2,
       "version_minor": 0
      },
      "text/plain": [
       "Canvas(toolbar=Toolbar(toolitems=[('Home', 'Reset original view', 'home', 'home'), ('Back', 'Back to previous …"
      ]
     },
     "metadata": {},
     "output_type": "display_data"
    },
    {
     "data": {
      "text/plain": [
       "[<matplotlib.lines.Line2D at 0x7f02e4a48690>]"
      ]
     },
     "execution_count": 115,
     "metadata": {},
     "output_type": "execute_result"
    }
   ],
   "source": [
    "df1 = pd.DataFrame()\n",
    "df1['x'] = np.random.choice([-1,0,1],10000000)\n",
    "fig1, ax1 = plt.subplots()\n",
    "ax1.semilog(df1.index, df1['x'].cumsum())"
   ]
  },
  {
   "cell_type": "code",
   "execution_count": null,
   "metadata": {},
   "outputs": [],
   "source": []
  },
  {
   "cell_type": "code",
   "execution_count": null,
   "metadata": {},
   "outputs": [],
   "source": []
  }
 ],
 "metadata": {
  "kernelspec": {
   "display_name": "Python 3",
   "language": "python",
   "name": "python3"
  },
  "language_info": {
   "codemirror_mode": {
    "name": "ipython",
    "version": 3
   },
   "file_extension": ".py",
   "mimetype": "text/x-python",
   "name": "python",
   "nbconvert_exporter": "python",
   "pygments_lexer": "ipython3",
   "version": "3.7.9"
  }
 },
 "nbformat": 4,
 "nbformat_minor": 4
}
