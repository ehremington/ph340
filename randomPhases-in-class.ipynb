{
 "cells": [
  {
   "cell_type": "code",
   "execution_count": 1,
   "metadata": {},
   "outputs": [],
   "source": [
    "%matplotlib widget"
   ]
  },
  {
   "cell_type": "code",
   "execution_count": 2,
   "metadata": {},
   "outputs": [],
   "source": [
    "import pandas as pd\n",
    "import numpy as np\n",
    "import matplotlib.pyplot as plt"
   ]
  },
  {
   "cell_type": "code",
   "execution_count": 3,
   "metadata": {},
   "outputs": [],
   "source": [
    "df = pd.DataFrame()\n",
    "\n",
    "N = 1000\n",
    "\n",
    "df['amp'] = np.random.random_sample(N)\n",
    "\n",
    "df['ph'] = 2*np.pi*np.random.random_sample(N)\n",
    "\n",
    "df['re'] = df['amp']*np.cos(df['ph'])\n",
    "\n",
    "df['im'] = df['amp']*np.sin(df['ph'])\n",
    "\n",
    "df['ans'] = df['re'].cumsum()**2+df['im'].cumsum()**2\n",
    "\n",
    "df['ampsq'] = df['amp']**2"
   ]
  },
  {
   "cell_type": "code",
   "execution_count": 10,
   "metadata": {},
   "outputs": [
    {
     "data": {
      "text/plain": [
       "999    343.296101\n",
       "Name: ans, dtype: float64"
      ]
     },
     "execution_count": 10,
     "metadata": {},
     "output_type": "execute_result"
    }
   ],
   "source": [
    "df['ans'][-1:]"
   ]
  },
  {
   "cell_type": "code",
   "execution_count": 11,
   "metadata": {},
   "outputs": [
    {
     "data": {
      "text/plain": [
       "332.98054226043246"
      ]
     },
     "execution_count": 11,
     "metadata": {},
     "output_type": "execute_result"
    }
   ],
   "source": [
    "df['ampsq'].sum()"
   ]
  },
  {
   "cell_type": "code",
   "execution_count": 12,
   "metadata": {},
   "outputs": [],
   "source": [
    "df['sum'] = df['ans']-df['ampsq'].cumsum() "
   ]
  },
  {
   "cell_type": "code",
   "execution_count": 14,
   "metadata": {},
   "outputs": [
    {
     "data": {
      "application/vnd.jupyter.widget-view+json": {
       "model_id": "ab95fa0d4e1c419787957abc3e6ba2bc",
       "version_major": 2,
       "version_minor": 0
      },
      "text/plain": [
       "Canvas(toolbar=Toolbar(toolitems=[('Home', 'Reset original view', 'home', 'home'), ('Back', 'Back to previous …"
      ]
     },
     "metadata": {},
     "output_type": "display_data"
    },
    {
     "data": {
      "text/plain": [
       "<matplotlib.legend.Legend at 0x7f70ff6eb350>"
      ]
     },
     "execution_count": 14,
     "metadata": {},
     "output_type": "execute_result"
    }
   ],
   "source": [
    "fig, ax = plt.subplots()\n",
    "\n",
    "ax.plot(df.index, df['ans'])\n",
    "ax.plot(df.index, df['ampsq'].cumsum())\n",
    "ax.plot(df.index, df['sum'])\n",
    "\n",
    "ax.legend(['answer', 'amp sq sum', 'weird sum'])"
   ]
  },
  {
   "cell_type": "code",
   "execution_count": 7,
   "metadata": {},
   "outputs": [
    {
     "data": {
      "text/html": [
       "<div>\n",
       "<style scoped>\n",
       "    .dataframe tbody tr th:only-of-type {\n",
       "        vertical-align: middle;\n",
       "    }\n",
       "\n",
       "    .dataframe tbody tr th {\n",
       "        vertical-align: top;\n",
       "    }\n",
       "\n",
       "    .dataframe thead th {\n",
       "        text-align: right;\n",
       "    }\n",
       "</style>\n",
       "<table border=\"1\" class=\"dataframe\">\n",
       "  <thead>\n",
       "    <tr style=\"text-align: right;\">\n",
       "      <th></th>\n",
       "      <th>amp</th>\n",
       "      <th>ph</th>\n",
       "      <th>re</th>\n",
       "      <th>im</th>\n",
       "      <th>ans</th>\n",
       "      <th>ampsq</th>\n",
       "      <th>sum</th>\n",
       "    </tr>\n",
       "  </thead>\n",
       "  <tbody>\n",
       "    <tr>\n",
       "      <th>0</th>\n",
       "      <td>0.864660</td>\n",
       "      <td>6.275644</td>\n",
       "      <td>0.864636</td>\n",
       "      <td>-0.006521</td>\n",
       "      <td>0.747638</td>\n",
       "      <td>0.747638</td>\n",
       "      <td>0.000000</td>\n",
       "    </tr>\n",
       "    <tr>\n",
       "      <th>1</th>\n",
       "      <td>0.897921</td>\n",
       "      <td>4.597504</td>\n",
       "      <td>-0.102931</td>\n",
       "      <td>-0.892002</td>\n",
       "      <td>1.387538</td>\n",
       "      <td>0.806262</td>\n",
       "      <td>-0.166362</td>\n",
       "    </tr>\n",
       "    <tr>\n",
       "      <th>2</th>\n",
       "      <td>0.859315</td>\n",
       "      <td>1.258841</td>\n",
       "      <td>0.263741</td>\n",
       "      <td>0.817841</td>\n",
       "      <td>1.058049</td>\n",
       "      <td>0.738423</td>\n",
       "      <td>-1.234274</td>\n",
       "    </tr>\n",
       "    <tr>\n",
       "      <th>3</th>\n",
       "      <td>0.348922</td>\n",
       "      <td>5.047431</td>\n",
       "      <td>0.114729</td>\n",
       "      <td>-0.329521</td>\n",
       "      <td>1.468264</td>\n",
       "      <td>0.121746</td>\n",
       "      <td>-0.945806</td>\n",
       "    </tr>\n",
       "    <tr>\n",
       "      <th>4</th>\n",
       "      <td>0.841393</td>\n",
       "      <td>2.332686</td>\n",
       "      <td>-0.580805</td>\n",
       "      <td>0.608776</td>\n",
       "      <td>0.352325</td>\n",
       "      <td>0.707943</td>\n",
       "      <td>-2.769687</td>\n",
       "    </tr>\n",
       "    <tr>\n",
       "      <th>...</th>\n",
       "      <td>...</td>\n",
       "      <td>...</td>\n",
       "      <td>...</td>\n",
       "      <td>...</td>\n",
       "      <td>...</td>\n",
       "      <td>...</td>\n",
       "      <td>...</td>\n",
       "    </tr>\n",
       "    <tr>\n",
       "      <th>995</th>\n",
       "      <td>0.643431</td>\n",
       "      <td>4.597263</td>\n",
       "      <td>-0.073912</td>\n",
       "      <td>-0.639171</td>\n",
       "      <td>493.868308</td>\n",
       "      <td>0.414003</td>\n",
       "      <td>154.415185</td>\n",
       "    </tr>\n",
       "    <tr>\n",
       "      <th>996</th>\n",
       "      <td>0.869874</td>\n",
       "      <td>4.118895</td>\n",
       "      <td>-0.486487</td>\n",
       "      <td>-0.721118</td>\n",
       "      <td>460.234499</td>\n",
       "      <td>0.756681</td>\n",
       "      <td>120.024696</td>\n",
       "    </tr>\n",
       "    <tr>\n",
       "      <th>997</th>\n",
       "      <td>0.534197</td>\n",
       "      <td>4.957714</td>\n",
       "      <td>0.129741</td>\n",
       "      <td>-0.518202</td>\n",
       "      <td>455.096038</td>\n",
       "      <td>0.285367</td>\n",
       "      <td>114.600868</td>\n",
       "    </tr>\n",
       "    <tr>\n",
       "      <th>998</th>\n",
       "      <td>0.977587</td>\n",
       "      <td>3.570631</td>\n",
       "      <td>-0.888984</td>\n",
       "      <td>-0.406673</td>\n",
       "      <td>414.361903</td>\n",
       "      <td>0.955675</td>\n",
       "      <td>72.911058</td>\n",
       "    </tr>\n",
       "    <tr>\n",
       "      <th>999</th>\n",
       "      <td>0.287577</td>\n",
       "      <td>1.660244</td>\n",
       "      <td>-0.025689</td>\n",
       "      <td>0.286428</td>\n",
       "      <td>418.699390</td>\n",
       "      <td>0.082701</td>\n",
       "      <td>77.165844</td>\n",
       "    </tr>\n",
       "  </tbody>\n",
       "</table>\n",
       "<p>1000 rows × 7 columns</p>\n",
       "</div>"
      ],
      "text/plain": [
       "          amp        ph        re        im         ans     ampsq         sum\n",
       "0    0.864660  6.275644  0.864636 -0.006521    0.747638  0.747638    0.000000\n",
       "1    0.897921  4.597504 -0.102931 -0.892002    1.387538  0.806262   -0.166362\n",
       "2    0.859315  1.258841  0.263741  0.817841    1.058049  0.738423   -1.234274\n",
       "3    0.348922  5.047431  0.114729 -0.329521    1.468264  0.121746   -0.945806\n",
       "4    0.841393  2.332686 -0.580805  0.608776    0.352325  0.707943   -2.769687\n",
       "..        ...       ...       ...       ...         ...       ...         ...\n",
       "995  0.643431  4.597263 -0.073912 -0.639171  493.868308  0.414003  154.415185\n",
       "996  0.869874  4.118895 -0.486487 -0.721118  460.234499  0.756681  120.024696\n",
       "997  0.534197  4.957714  0.129741 -0.518202  455.096038  0.285367  114.600868\n",
       "998  0.977587  3.570631 -0.888984 -0.406673  414.361903  0.955675   72.911058\n",
       "999  0.287577  1.660244 -0.025689  0.286428  418.699390  0.082701   77.165844\n",
       "\n",
       "[1000 rows x 7 columns]"
      ]
     },
     "execution_count": 7,
     "metadata": {},
     "output_type": "execute_result"
    }
   ],
   "source": [
    "df"
   ]
  },
  {
   "cell_type": "code",
   "execution_count": null,
   "metadata": {},
   "outputs": [],
   "source": []
  },
  {
   "cell_type": "code",
   "execution_count": null,
   "metadata": {},
   "outputs": [],
   "source": []
  },
  {
   "cell_type": "code",
   "execution_count": null,
   "metadata": {},
   "outputs": [],
   "source": []
  },
  {
   "cell_type": "code",
   "execution_count": null,
   "metadata": {},
   "outputs": [],
   "source": []
  },
  {
   "cell_type": "code",
   "execution_count": null,
   "metadata": {},
   "outputs": [],
   "source": []
  },
  {
   "cell_type": "code",
   "execution_count": 8,
   "metadata": {},
   "outputs": [],
   "source": [
    "df['sum'] = [df['amp'][i]*(df['amp'][i+1:]*np.cos(df['ph'][i]-df['ph'][i+1:])).sum() for i in df.index if i<len(df.index)]"
   ]
  },
  {
   "cell_type": "code",
   "execution_count": null,
   "metadata": {},
   "outputs": [],
   "source": []
  }
 ],
 "metadata": {
  "kernelspec": {
   "display_name": "Python 3",
   "language": "python",
   "name": "python3"
  },
  "language_info": {
   "codemirror_mode": {
    "name": "ipython",
    "version": 3
   },
   "file_extension": ".py",
   "mimetype": "text/x-python",
   "name": "python",
   "nbconvert_exporter": "python",
   "pygments_lexer": "ipython3",
   "version": "3.7.9"
  }
 },
 "nbformat": 4,
 "nbformat_minor": 4
}
