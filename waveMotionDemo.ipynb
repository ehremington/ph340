{
 "cells": [
  {
   "cell_type": "code",
   "execution_count": 1,
   "metadata": {},
   "outputs": [],
   "source": [
    "%matplotlib widget\n",
    "\n",
    "from ipywidgets import interact, interactive, fixed, interact_manual\n",
    "import ipywidgets as widgets\n",
    "from IPython.display import display\n",
    "import matplotlib.pyplot as plt\n",
    "import numpy as np"
   ]
  },
  {
   "cell_type": "code",
   "execution_count": 12,
   "metadata": {},
   "outputs": [],
   "source": [
    "def wavePlotDemo(wavefunc):\n",
    "    fig0 = plt.figure(figsize=(8,5))\n",
    "    ax0 = fig0.add_subplot(111)\n",
    "    x = np.linspace(-5,20,1000)\n",
    "    line01, = ax0.plot([],[], color='gray')\n",
    "    line02, = ax0.plot([],[])\n",
    "    ax0.set_xlim((-5,20))\n",
    "    ax0.set_ylim((-2,2))\n",
    "    ax0.axhline(0, color='k')\n",
    "    ax0.axvline(0, color='k')\n",
    "    ax0.set_xlabel('horizontal position')\n",
    "    ax0.set_ylabel('vertical position')\n",
    "    \n",
    "    def plot0(t=0, k=.1, v=1):\n",
    "        wave1 = wavefunc(x,0,1,.1,1)\n",
    "        wave2 = wavefunc(x,t,1,k,v)\n",
    "        line01.set_data(x,wave1)\n",
    "        line02.set_data(x,wave2)\n",
    "        plt.draw()\n",
    "    interact(plot0, t=(0,10,.05), k=(.1,10,.1), v=(1,10,.1))\n",
    "\n",
    "def sinWave(x,t,a,k,v, ph=0):\n",
    "    return a*np.sin(2*np.pi*k*(x-v*t)+ph)\n",
    "\n",
    "def sinWaveRev(x,t,a,k,v, ph=0):\n",
    "    return a*np.sin(2*np.pi*k*(x+v*t-20)+ph)\n",
    "\n",
    "def sinWaveHeaviside(x,t,a,k,v, ph=0):\n",
    "    return a*np.sin(2*np.pi*k*(x-v*t)+ph)*np.heaviside(2*np.pi*k*(x-v*t), 1)\n",
    "\n",
    "def gaussWave(x,t,a,k,v, ph=0):\n",
    "    return a*np.exp(-(2*np.pi*k*(x-v*t))**2)\n",
    "\n",
    "def gaussWaveRev(x,t,a,k,v, ph=0):\n",
    "    return a*np.exp(-(2*np.pi*k*((x-20)+v*t))**2)\n",
    "\n",
    "def lineWave(x,t,a,k,v):\n",
    "    return a*k*(x-v*t)+2\n",
    "\n",
    "def notWave(x,t,a,k,v):\n",
    "    return a*np.exp(-k*x**2/(v*t))"
   ]
  },
  {
   "cell_type": "code",
   "execution_count": 3,
   "metadata": {},
   "outputs": [
    {
     "data": {
      "application/vnd.jupyter.widget-view+json": {
       "model_id": "a4bb3eccf75d43ecb5f2d1bdcd342295",
       "version_major": 2,
       "version_minor": 0
      },
      "text/plain": [
       "Canvas(toolbar=Toolbar(toolitems=[('Home', 'Reset original view', 'home', 'home'), ('Back', 'Back to previous …"
      ]
     },
     "metadata": {},
     "output_type": "display_data"
    },
    {
     "data": {
      "application/vnd.jupyter.widget-view+json": {
       "model_id": "5c511ae1bc0f47bab6e8a766c6233cbc",
       "version_major": 2,
       "version_minor": 0
      },
      "text/plain": [
       "interactive(children=(FloatSlider(value=0.0, description='t', max=10.0, step=0.05), FloatSlider(value=0.1, des…"
      ]
     },
     "metadata": {},
     "output_type": "display_data"
    }
   ],
   "source": [
    "wavePlotDemo(gaussWave)"
   ]
  },
  {
   "cell_type": "code",
   "execution_count": 7,
   "metadata": {},
   "outputs": [
    {
     "data": {
      "application/vnd.jupyter.widget-view+json": {
       "model_id": "87069d9c472b4464a4cca4f395f5e497",
       "version_major": 2,
       "version_minor": 0
      },
      "text/plain": [
       "Canvas(toolbar=Toolbar(toolitems=[('Home', 'Reset original view', 'home', 'home'), ('Back', 'Back to previous …"
      ]
     },
     "metadata": {},
     "output_type": "display_data"
    },
    {
     "data": {
      "application/vnd.jupyter.widget-view+json": {
       "model_id": "e1ba429ed28044fcba588a4805fb3d1a",
       "version_major": 2,
       "version_minor": 0
      },
      "text/plain": [
       "interactive(children=(FloatSlider(value=0.0, description='t', max=10.0, step=0.05), FloatSlider(value=0.1, des…"
      ]
     },
     "metadata": {},
     "output_type": "display_data"
    }
   ],
   "source": [
    "wavePlotDemo(sinWave)"
   ]
  },
  {
   "cell_type": "code",
   "execution_count": 4,
   "metadata": {
    "scrolled": false
   },
   "outputs": [
    {
     "data": {
      "application/vnd.jupyter.widget-view+json": {
       "model_id": "4677daa7bd8841c386a68e9870ba3fa5",
       "version_major": 2,
       "version_minor": 0
      },
      "text/plain": [
       "Canvas(toolbar=Toolbar(toolitems=[('Home', 'Reset original view', 'home', 'home'), ('Back', 'Back to previous …"
      ]
     },
     "metadata": {},
     "output_type": "display_data"
    },
    {
     "data": {
      "application/vnd.jupyter.widget-view+json": {
       "model_id": "317864f0f3d246139624980d3868fea4",
       "version_major": 2,
       "version_minor": 0
      },
      "text/plain": [
       "interactive(children=(FloatSlider(value=0.0, description='t', max=10.0, step=0.05), FloatSlider(value=0.1, des…"
      ]
     },
     "metadata": {},
     "output_type": "display_data"
    }
   ],
   "source": [
    "wavePlotDemo(lineWave)"
   ]
  },
  {
   "cell_type": "code",
   "execution_count": 5,
   "metadata": {},
   "outputs": [
    {
     "data": {
      "application/vnd.jupyter.widget-view+json": {
       "model_id": "47698f30cc7f4a289d6d8f21ce9ba891",
       "version_major": 2,
       "version_minor": 0
      },
      "text/plain": [
       "Canvas(toolbar=Toolbar(toolitems=[('Home', 'Reset original view', 'home', 'home'), ('Back', 'Back to previous …"
      ]
     },
     "metadata": {},
     "output_type": "display_data"
    },
    {
     "data": {
      "application/vnd.jupyter.widget-view+json": {
       "model_id": "74f80ed279224e34a036c7be711c008c",
       "version_major": 2,
       "version_minor": 0
      },
      "text/plain": [
       "interactive(children=(FloatSlider(value=0.0, description='t', max=10.0, step=0.05), FloatSlider(value=0.1, des…"
      ]
     },
     "metadata": {},
     "output_type": "display_data"
    }
   ],
   "source": [
    "wavePlotDemo(notWave)"
   ]
  },
  {
   "cell_type": "markdown",
   "metadata": {},
   "source": [
    "# Superposition"
   ]
  },
  {
   "cell_type": "code",
   "execution_count": 13,
   "metadata": {},
   "outputs": [],
   "source": [
    "def interfereDemo(func1,func2):\n",
    "    fig2 = plt.figure(figsize=(8,5))\n",
    "    ax2 = fig2.add_subplot(111)\n",
    "    x = np.linspace(0,20,1000)\n",
    "    line21, = ax2.plot([],[])\n",
    "    line22, = ax2.plot([],[])\n",
    "    line23, = ax2.plot([],[])\n",
    "    ax2.set_ylim((-3,6))\n",
    "    ax2.hlines(0,0,20)\n",
    "    \n",
    "    def plot2(t=0, a=1, k=.2, ph=0):\n",
    "        wave1 = func1(x,t,1,.2,1,0)\n",
    "        wave2 = func2(x,t,a,k,1,ph)\n",
    "        line21.set_data(x,wave1)\n",
    "        line22.set_data(x,wave2)\n",
    "        line23.set_data(x,wave1+wave2+3)\n",
    "        plt.draw()\n",
    "    \n",
    "    interact(plot2, t=(0,20,.05), a=(1,5,.1), k=(.01,1,.01), ph=(0,6.3,.1))"
   ]
  },
  {
   "cell_type": "code",
   "execution_count": 14,
   "metadata": {},
   "outputs": [
    {
     "data": {
      "application/vnd.jupyter.widget-view+json": {
       "model_id": "2c850349c0964fc29f39bd61983f8385",
       "version_major": 2,
       "version_minor": 0
      },
      "text/plain": [
       "Canvas(toolbar=Toolbar(toolitems=[('Home', 'Reset original view', 'home', 'home'), ('Back', 'Back to previous …"
      ]
     },
     "metadata": {},
     "output_type": "display_data"
    },
    {
     "data": {
      "application/vnd.jupyter.widget-view+json": {
       "model_id": "1157f526d4244553a2080dab3ae9cd38",
       "version_major": 2,
       "version_minor": 0
      },
      "text/plain": [
       "interactive(children=(FloatSlider(value=0.0, description='t', max=20.0, step=0.05), FloatSlider(value=1.0, des…"
      ]
     },
     "metadata": {},
     "output_type": "display_data"
    }
   ],
   "source": [
    "interfereDemo(gaussWave, gaussWaveRev)"
   ]
  },
  {
   "cell_type": "code",
   "execution_count": 15,
   "metadata": {},
   "outputs": [
    {
     "data": {
      "application/vnd.jupyter.widget-view+json": {
       "model_id": "08a22e4072f44e60a2156acd3f9217df",
       "version_major": 2,
       "version_minor": 0
      },
      "text/plain": [
       "Canvas(toolbar=Toolbar(toolitems=[('Home', 'Reset original view', 'home', 'home'), ('Back', 'Back to previous …"
      ]
     },
     "metadata": {},
     "output_type": "display_data"
    },
    {
     "data": {
      "application/vnd.jupyter.widget-view+json": {
       "model_id": "31e34161251042329b2371b30e8c8b88",
       "version_major": 2,
       "version_minor": 0
      },
      "text/plain": [
       "interactive(children=(FloatSlider(value=0.0, description='t', max=20.0, step=0.05), FloatSlider(value=1.0, des…"
      ]
     },
     "metadata": {},
     "output_type": "display_data"
    }
   ],
   "source": [
    "interfereDemo(sinWave, sinWaveRev)"
   ]
  },
  {
   "cell_type": "markdown",
   "metadata": {},
   "source": [
    "# Interference"
   ]
  },
  {
   "cell_type": "code",
   "execution_count": 11,
   "metadata": {},
   "outputs": [
    {
     "data": {
      "application/vnd.jupyter.widget-view+json": {
       "model_id": "91c0bfd8d0e44d9ca1701caa2bc3db67",
       "version_major": 2,
       "version_minor": 0
      },
      "text/plain": [
       "Canvas(toolbar=Toolbar(toolitems=[('Home', 'Reset original view', 'home', 'home'), ('Back', 'Back to previous …"
      ]
     },
     "metadata": {},
     "output_type": "display_data"
    },
    {
     "data": {
      "application/vnd.jupyter.widget-view+json": {
       "model_id": "173abc6558ef4e98a6cb172c1e3cd6ab",
       "version_major": 2,
       "version_minor": 0
      },
      "text/plain": [
       "interactive(children=(FloatSlider(value=0.0, description='t', max=20.0, step=0.05), FloatSlider(value=1.0, des…"
      ]
     },
     "metadata": {},
     "output_type": "display_data"
    }
   ],
   "source": [
    "interfereDemo(sinWave, sinWave)"
   ]
  },
  {
   "cell_type": "code",
   "execution_count": 12,
   "metadata": {},
   "outputs": [
    {
     "data": {
      "application/vnd.jupyter.widget-view+json": {
       "model_id": "318f06cde6d14a97874f53c5ed412937",
       "version_major": 2,
       "version_minor": 0
      },
      "text/plain": [
       "Canvas(toolbar=Toolbar(toolitems=[('Home', 'Reset original view', 'home', 'home'), ('Back', 'Back to previous …"
      ]
     },
     "metadata": {},
     "output_type": "display_data"
    },
    {
     "data": {
      "application/vnd.jupyter.widget-view+json": {
       "model_id": "379cc24e1fed4df295bbfbb0c0e2e617",
       "version_major": 2,
       "version_minor": 0
      },
      "text/plain": [
       "interactive(children=(FloatSlider(value=0.0, description='t', max=10.0, step=0.05), FloatSlider(value=1.0, des…"
      ]
     },
     "metadata": {},
     "output_type": "display_data"
    }
   ],
   "source": [
    "fig2 = plt.figure(figsize=(8,5))\n",
    "ax2 = fig2.add_subplot(111)\n",
    "x = np.linspace(0,20,1000)\n",
    "line21, = ax2.plot([],[])\n",
    "line22, = ax2.plot([],[])\n",
    "line23, = ax2.plot([],[])\n",
    "ax2.set_ylim((-5,5))\n",
    "ax2.hlines(0,0,20)\n",
    "\n",
    "def wavePhase(x,t,a,f,k,ph):\n",
    "    return a*np.sin(k*x-f*t+ph)\n",
    "\n",
    "def plot2(t=0, a=1, k=1, ph=0):\n",
    "    wave1 = wavePhase(x,t,1,1,1,0)\n",
    "    wave2 = wavePhase(x,t,a,1,k,ph)\n",
    "    line21.set_data(x,wave1)\n",
    "    line22.set_data(x,wave2)\n",
    "    line23.set_data(x,wave1+wave2+3)\n",
    "    plt.draw()\n",
    "    \n",
    "interact(plot2, t=(0,10,.05), a=(1,5,.1), k=(1,10,.1), ph=(0,6.3,.1));"
   ]
  },
  {
   "cell_type": "markdown",
   "metadata": {},
   "source": [
    "# Standing Waves"
   ]
  },
  {
   "cell_type": "code",
   "execution_count": 13,
   "metadata": {},
   "outputs": [
    {
     "data": {
      "application/vnd.jupyter.widget-view+json": {
       "model_id": "d887011b9f5d4943a58d0040080433f7",
       "version_major": 2,
       "version_minor": 0
      },
      "text/plain": [
       "Canvas(toolbar=Toolbar(toolitems=[('Home', 'Reset original view', 'home', 'home'), ('Back', 'Back to previous …"
      ]
     },
     "metadata": {},
     "output_type": "display_data"
    },
    {
     "data": {
      "application/vnd.jupyter.widget-view+json": {
       "model_id": "8b4d9f33cc8d45d9a6a7a5399b8de857",
       "version_major": 2,
       "version_minor": 0
      },
      "text/plain": [
       "interactive(children=(FloatSlider(value=0.0, description='t', max=30.0, step=0.02), Output()), _dom_classes=('…"
      ]
     },
     "metadata": {},
     "output_type": "display_data"
    }
   ],
   "source": [
    "fig3 = plt.figure(figsize=(8,5))\n",
    "ax3 = fig3.add_subplot(111)\n",
    "x = np.linspace(0,50,500)\n",
    "line1, = ax3.plot([],[])\n",
    "line2, = ax3.plot([],[])\n",
    "line3, = ax3.plot([],[])\n",
    "ax3.set_ylim((-1.1,5))\n",
    "ax3.hlines(0,0,50)\n",
    "ax3.hlines(3,0,50)\n",
    "ax3.vlines(21.88, -5, 5, color='k')\n",
    "\n",
    "def wave1(x,t):\n",
    "    return np.sin(5*t-x)*np.heaviside(-x+5*t,1)\n",
    "\n",
    "def wave2(x,t):\n",
    "    return np.sin(-5*t-(x-50))*np.heaviside((x-50)+5*t,1)\n",
    "\n",
    "def plot3(t=0):\n",
    "    line1.set_data(x,wave1(x,t))\n",
    "    line2.set_data(x,wave2(x,t))\n",
    "    line3.set_data(x,wave1(x,t)+wave2(x,t)+3)\n",
    "    plt.draw()\n",
    "    \n",
    "interact(plot3, t=(0,30,.02));"
   ]
  },
  {
   "cell_type": "code",
   "execution_count": null,
   "metadata": {},
   "outputs": [],
   "source": []
  }
 ],
 "metadata": {
  "kernelspec": {
   "display_name": "Python 3",
   "language": "python",
   "name": "python3"
  },
  "language_info": {
   "codemirror_mode": {
    "name": "ipython",
    "version": 3
   },
   "file_extension": ".py",
   "mimetype": "text/x-python",
   "name": "python",
   "nbconvert_exporter": "python",
   "pygments_lexer": "ipython3",
   "version": "3.7.9"
  },
  "widgets": {
   "application/vnd.jupyter.widget-state+json": {
    "state": {
     "00fa17e712e14d2fade64d6bf01ec93e": {
      "model_module": "@jupyter-widgets/base",
      "model_module_version": "1.1.0",
      "model_name": "LayoutModel",
      "state": {}
     },
     "08959b71f85e4063bcef53c86c0b6421": {
      "model_module": "@jupyter-widgets/base",
      "model_module_version": "1.1.0",
      "model_name": "LayoutModel",
      "state": {}
     },
     "15aadf49d4084b68b1a93b38f4ad3eb1": {
      "model_module": "@jupyter-widgets/controls",
      "model_module_version": "1.3.0",
      "model_name": "SliderStyleModel",
      "state": {
       "description_width": ""
      }
     },
     "301068d7f7744fc1b8ed4739a3d600ab": {
      "model_module": "@jupyter-widgets/base",
      "model_module_version": "1.1.0",
      "model_name": "LayoutModel",
      "state": {}
     },
     "30ddd2f398b04e539080f946ccac5a74": {
      "model_module": "@jupyter-widgets/base",
      "model_module_version": "1.1.0",
      "model_name": "LayoutModel",
      "state": {}
     },
     "370a391df3ad4b548050b43f0111031b": {
      "model_module": "@jupyter-widgets/controls",
      "model_module_version": "1.3.0",
      "model_name": "FloatSliderModel",
      "state": {
       "description": "w",
       "layout": "IPY_MODEL_30ddd2f398b04e539080f946ccac5a74",
       "max": 10,
       "min": 1,
       "step": 0.1,
       "style": "IPY_MODEL_6ab4f365cb214a27bc53e60ef5fc19f1",
       "value": 1
      }
     },
     "3f601b4a9e884a4487cc267cc3664a79": {
      "model_module": "@jupyter-widgets/controls",
      "model_module_version": "1.3.0",
      "model_name": "FloatSliderModel",
      "state": {
       "description": "t",
       "layout": "IPY_MODEL_bc420aa46bd64d34855956644437d354",
       "max": 10,
       "step": 0.05,
       "style": "IPY_MODEL_6e678c187d1d4d39b1b7d55055291225"
      }
     },
     "4383a39d3ae1458c8441a7a1478abb9b": {
      "model_module": "@jupyter-widgets/controls",
      "model_module_version": "1.3.0",
      "model_name": "FloatSliderModel",
      "state": {
       "description": "k",
       "layout": "IPY_MODEL_301068d7f7744fc1b8ed4739a3d600ab",
       "max": 10,
       "min": 0.1,
       "step": 0.1,
       "style": "IPY_MODEL_88eaca4b2fb548f2a7d7d44dae30ff92",
       "value": 1
      }
     },
     "53d760b3e1fc4048b3bfca5417a408eb": {
      "model_module": "@jupyter-widgets/output",
      "model_module_version": "1.0.0",
      "model_name": "OutputModel",
      "state": {
       "layout": "IPY_MODEL_08959b71f85e4063bcef53c86c0b6421"
      }
     },
     "60dc867b737e4fb4bd905bb4f32fc89b": {
      "model_module": "@jupyter-widgets/output",
      "model_module_version": "1.0.0",
      "model_name": "OutputModel",
      "state": {
       "layout": "IPY_MODEL_7e61c7a6199f480ebde920e8cde1f7ed"
      }
     },
     "69d1c60db73c4cd8a4941ced19340ccc": {
      "model_module": "@jupyter-widgets/controls",
      "model_module_version": "1.3.0",
      "model_name": "FloatSliderModel",
      "state": {
       "description": "k",
       "layout": "IPY_MODEL_bf8e3fe06aba480d83fc692cd47d0acf",
       "max": 10,
       "min": 0.1,
       "step": 0.1,
       "style": "IPY_MODEL_15aadf49d4084b68b1a93b38f4ad3eb1",
       "value": 1
      }
     },
     "6ab4f365cb214a27bc53e60ef5fc19f1": {
      "model_module": "@jupyter-widgets/controls",
      "model_module_version": "1.3.0",
      "model_name": "SliderStyleModel",
      "state": {
       "description_width": ""
      }
     },
     "6e678c187d1d4d39b1b7d55055291225": {
      "model_module": "@jupyter-widgets/controls",
      "model_module_version": "1.3.0",
      "model_name": "SliderStyleModel",
      "state": {
       "description_width": ""
      }
     },
     "7c2a8821b2e1444ab509df086f4aec98": {
      "model_module": "@jupyter-widgets/base",
      "model_module_version": "1.1.0",
      "model_name": "LayoutModel",
      "state": {}
     },
     "7ca5bfdd702f41d79b8a7f307ceaa5a6": {
      "model_module": "@jupyter-widgets/base",
      "model_module_version": "1.1.0",
      "model_name": "LayoutModel",
      "state": {}
     },
     "7e61c7a6199f480ebde920e8cde1f7ed": {
      "model_module": "@jupyter-widgets/base",
      "model_module_version": "1.1.0",
      "model_name": "LayoutModel",
      "state": {}
     },
     "86c6142bfd724166b6d36f47dd2eb05e": {
      "model_module": "@jupyter-widgets/controls",
      "model_module_version": "1.3.0",
      "model_name": "VBoxModel",
      "state": {
       "_dom_classes": [
        "widget-interact"
       ],
       "children": [
        "IPY_MODEL_3f601b4a9e884a4487cc267cc3664a79",
        "IPY_MODEL_370a391df3ad4b548050b43f0111031b",
        "IPY_MODEL_69d1c60db73c4cd8a4941ced19340ccc",
        "IPY_MODEL_53d760b3e1fc4048b3bfca5417a408eb"
       ],
       "layout": "IPY_MODEL_da6eacac7f5d49d0b15cfeba3b89a2c4"
      }
     },
     "8721ccc798a740ae81c57d0c85441cde": {
      "model_module": "@jupyter-widgets/controls",
      "model_module_version": "1.3.0",
      "model_name": "FloatSliderModel",
      "state": {
       "description": "t",
       "layout": "IPY_MODEL_00fa17e712e14d2fade64d6bf01ec93e",
       "max": 10,
       "step": 0.05,
       "style": "IPY_MODEL_b1794922e53b44c59615d8a28522925d",
       "value": 1.6
      }
     },
     "88eaca4b2fb548f2a7d7d44dae30ff92": {
      "model_module": "@jupyter-widgets/controls",
      "model_module_version": "1.3.0",
      "model_name": "SliderStyleModel",
      "state": {
       "description_width": ""
      }
     },
     "8ad19cff74a34f39b2e7b365a11efb7a": {
      "model_module": "@jupyter-widgets/controls",
      "model_module_version": "1.3.0",
      "model_name": "SliderStyleModel",
      "state": {
       "description_width": ""
      }
     },
     "aba95f3ab4be4664b7bee375c5b39600": {
      "model_module": "@jupyter-widgets/controls",
      "model_module_version": "1.3.0",
      "model_name": "FloatSliderModel",
      "state": {
       "description": "w",
       "layout": "IPY_MODEL_7ca5bfdd702f41d79b8a7f307ceaa5a6",
       "max": 10,
       "min": 1,
       "step": 0.1,
       "style": "IPY_MODEL_8ad19cff74a34f39b2e7b365a11efb7a",
       "value": 1
      }
     },
     "b1794922e53b44c59615d8a28522925d": {
      "model_module": "@jupyter-widgets/controls",
      "model_module_version": "1.3.0",
      "model_name": "SliderStyleModel",
      "state": {
       "description_width": ""
      }
     },
     "bc420aa46bd64d34855956644437d354": {
      "model_module": "@jupyter-widgets/base",
      "model_module_version": "1.1.0",
      "model_name": "LayoutModel",
      "state": {}
     },
     "bf8e3fe06aba480d83fc692cd47d0acf": {
      "model_module": "@jupyter-widgets/base",
      "model_module_version": "1.1.0",
      "model_name": "LayoutModel",
      "state": {}
     },
     "c1d419f0243b4f9c8c805b4f3ff6346b": {
      "model_module": "@jupyter-widgets/controls",
      "model_module_version": "1.3.0",
      "model_name": "VBoxModel",
      "state": {
       "_dom_classes": [
        "widget-interact"
       ],
       "children": [
        "IPY_MODEL_8721ccc798a740ae81c57d0c85441cde",
        "IPY_MODEL_aba95f3ab4be4664b7bee375c5b39600",
        "IPY_MODEL_4383a39d3ae1458c8441a7a1478abb9b",
        "IPY_MODEL_60dc867b737e4fb4bd905bb4f32fc89b"
       ],
       "layout": "IPY_MODEL_7c2a8821b2e1444ab509df086f4aec98"
      }
     },
     "da6eacac7f5d49d0b15cfeba3b89a2c4": {
      "model_module": "@jupyter-widgets/base",
      "model_module_version": "1.1.0",
      "model_name": "LayoutModel",
      "state": {}
     }
    },
    "version_major": 2,
    "version_minor": 0
   }
  }
 },
 "nbformat": 4,
 "nbformat_minor": 4
}
